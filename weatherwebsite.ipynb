{
  "nbformat": 4,
  "nbformat_minor": 0,
  "metadata": {
    "colab": {
      "provenance": []
    },
    "kernelspec": {
      "name": "python3",
      "display_name": "Python 3"
    },
    "language_info": {
      "name": "python"
    }
  },
  "cells": [
    {
      "cell_type": "code",
      "execution_count": 7,
      "metadata": {
        "colab": {
          "base_uri": "https://localhost:8080/"
        },
        "id": "nzm90fIDZYtq",
        "outputId": "15618e69-5ec6-4bff-f3a0-d3226fd6c5b1"
      },
      "outputs": [
        {
          "output_type": "stream",
          "name": "stdout",
          "text": [
            "Enter city or ZIP code: 400702\n",
            "Location: Uran\n",
            "Temperature: 27.01 °C\n",
            "Humidity: 88%\n",
            "Weather: overcast clouds\n"
          ]
        }
      ],
      "source": [
        "import requests\n",
        "import json\n",
        "\n",
        "API_KEY = \"cb55d9dbfcb42cd5c8065112d582ba83\"\n",
        "\n",
        "def get_weather_data(location):\n",
        "\n",
        "  url = f\"https://api.openweathermap.org/data/2.5/weather?q={location}&appid={API_KEY}&units=metric\"\n",
        "  response = requests.get(url)\n",
        "\n",
        "  if response.status_code == 200:\n",
        "    return response.json()\n",
        "  else:\n",
        "    print(f\"Error: {response.status_code}\")\n",
        "    return None\n",
        "\n",
        "def display_weather(data):\n",
        "\n",
        "  city = data[\"name\"]\n",
        "  temp = data[\"main\"][\"temp\"]\n",
        "  humidity = data[\"main\"][\"humidity\"]\n",
        "  weather_desc = data[\"weather\"][0][\"description\"]\n",
        "\n",
        "  print(f\"Location: {city}\")\n",
        "  print(f\"Temperature: {temp:.2f} °C\")\n",
        "  print(f\"Humidity: {humidity}%\")\n",
        "  print(f\"Weather: {weather_desc}\")\n",
        "\n",
        "def main():\n",
        "\n",
        "  location = input(\"Enter city or ZIP code: \")\n",
        "  weather_data = get_weather_data(location)\n",
        "\n",
        "  if weather_data:\n",
        "    display_weather(weather_data)\n",
        "  else:\n",
        "    print(\"Failed to retrieve weather data. Please check location or API key.\")\n",
        "\n",
        "if __name__ == \"__main__\":\n",
        "  main()\n"
      ]
    },
    {
      "cell_type": "code",
      "source": [],
      "metadata": {
        "id": "i8UoJ2upaWmc"
      },
      "execution_count": null,
      "outputs": []
    }
  ]
}